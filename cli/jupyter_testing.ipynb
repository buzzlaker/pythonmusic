{
 "cells": [
  {
   "cell_type": "code",
   "execution_count": null,
   "metadata": {},
   "outputs": [],
   "source": [
    "#!/usr/bin/env python\n",
    "# vim:set et sw=4 ts=4 foldlevel=99:\n",
    "\n",
    "# ===============================================================================#\n",
    "# MIT License                                                                    #\n",
    "#                                                                                #\n",
    "# Copyright (c) [2019] [John Petrilli]                                           #\n",
    "#                                                                                #\n",
    "# Permission is hereby granted, free of charge, to any person obtaining a copy   #\n",
    "# of this software and associated documentation files (the \"Software\"), to deal  #\n",
    "# in the Software without restriction, including without limitation the rights   #\n",
    "# to use, copy, modify, merge, publish, distribute, sublicense, and/or sell      #\n",
    "# copies of the Software, and to permit persons to whom the Software is          #\n",
    "# furnished to do so, subject to the following conditions:                       #\n",
    "#                                                                                #\n",
    "# The above copyright notice and this permission notice shall be included in all #\n",
    "# copies or substantial portions of the Software.                                #\n",
    "#                                                                                #\n",
    "# THE SOFTWARE IS PROVIDED \"AS IS\", WITHOUT WARRANTY OF ANY KIND, EXPRESS OR     #\n",
    "# IMPLIED, INCLUDING BUT NOT LIMITED TO THE WARRANTIES OF MERCHANTABILITY,       #\n",
    "# FITNESS FOR A PARTICULAR PURPOSE AND NONINFRINGEMENT. IN NO EVENT SHALL THE    #\n",
    "# AUTHORS OR COPYRIGHT HOLDERS BE LIABLE FOR ANY CLAIM, DAMAGES OR OTHER         #\n",
    "# LIABILITY, WHETHER IN AN ACTION OF CONTRACT, TORT OR OTHERWISE, ARISING FROM,  #\n",
    "# OUT OF OR IN CONNECTION WITH THE SOFTWARE OR THE USE OR OTHER DEALINGS IN THE  #\n",
    "# SOFTWARE.                                                                      #\n",
    "#   __       __                       ___ __            __          __ __        #\n",
    "#  |__.-----|  |--.-----.-----.--.--.'  _|__.----.-----|  |--.---.-|  |  |       #\n",
    "#  |  |  _  |     |     |     |  |  |   _|  |   _|  -__|  _  |  _  |  |  |       #\n",
    "#  |  |_____|__|__|__|__|__|__|___  |__| |__|__| |_____|_____|___._|__|__|       #\n",
    "# |___| johnny@techsystems.io |_____|https://www.github.com/johnnyfireball       #\n",
    "# ===============================================================================#\n",
    "import sys\n",
    "import time\n",
    "import threading\n",
    "\n",
    "from mpv import MPV\n",
    "import json"
   ]
  },
  {
   "cell_type": "code",
   "execution_count": null,
   "metadata": {},
   "outputs": [],
   "source": [
    "class ControlMPV(MPV):\n",
    "    \n",
    "    def __init__(self, file=None):\n",
    "        super().__init__(window_id=None, debug=False)\n",
    "        self.msg = ''\n",
    "\n",
    "        self.paused = False\n",
    "        self.options = {\n",
    "            'p': self.play_pause,\n",
    "            'q': self.close,\n",
    "        }\n",
    "        if file:\n",
    "            self.command(\"loadfile\", file, \"append\")\n",
    "            self.set_property(\"playlist-pos\", 0)\n",
    "\n",
    "        self.loaded = threading.Event()\n",
    "        self.loaded.wait()\n",
    "    \n",
    "    def send_status(self):\n",
    "        if self.msg:\n",
    "            print(self.msg)\n",
    "        \n",
    "\n",
    "    def loadfile(self, file):\n",
    "        self.command(\"loadfile\", file, \"append\")\n",
    "        self.set_property(\"playlist-pos\", 0)\n",
    "\n",
    "        self.loaded = threading.Event()\n",
    "        self.loaded.wait()\n",
    "\n",
    "    def on_file_loaded(self):\n",
    "        self.loaded.set()\n",
    "\n",
    "    #def on_pause(self, paused=None):\n",
    "    #    self.paused = True\n",
    "        \n",
    "    def play_pause(self):\n",
    "        if self.command(\"get_property\", \"pause\"):\n",
    "            self.set_property(\"pause\", False)\n",
    "        else:\n",
    "            self.set_property(\"pause\", True)\n",
    "            \n",
    "    def seek(self, position):\n",
    "        self.command(\"seek\", position, \"absolute\")\n",
    "\n",
    "    def user_input(self):\n",
    "        x = input(\"What do you want to do next:\").strip()\n",
    "        if x.lower() in options:\n",
    "            self.options[x.lower()]()"
   ]
  },
  {
   "cell_type": "code",
   "execution_count": null,
   "metadata": {},
   "outputs": [],
   "source": [
    "mpv = ControlMPV()"
   ]
  },
  {
   "cell_type": "code",
   "execution_count": null,
   "metadata": {},
   "outputs": [],
   "source": [
    "mpv.play_pause()"
   ]
  },
  {
   "cell_type": "code",
   "execution_count": null,
   "metadata": {},
   "outputs": [],
   "source": [
    "# echo '{ \"command\": [\"get_property\", \"playback-time\"] }' | socat - /tmp/mpvsocket\n",
    "mpv.command(\"get_property\", \"playback-time\")"
   ]
  },
  {
   "cell_type": "code",
   "execution_count": null,
   "metadata": {},
   "outputs": [],
   "source": [
    "for i in mpv.mpv.command(\"get_property\", \"property-list\"):\n",
    "    if \"pause\" in i:\n",
    "        print(i)"
   ]
  },
  {
   "cell_type": "code",
   "execution_count": null,
   "metadata": {},
   "outputs": [],
   "source": [
    "mpv._callbacks"
   ]
  },
  {
   "cell_type": "code",
   "execution_count": null,
   "metadata": {},
   "outputs": [],
   "source": [
    "mpv.command(\"loadfile\", \"\")"
   ]
  },
  {
   "cell_type": "code",
   "execution_count": null,
   "metadata": {},
   "outputs": [],
   "source": [
    "mpv.command(\"get_property\", \"pause\")"
   ]
  },
  {
   "cell_type": "code",
   "execution_count": null,
   "metadata": {},
   "outputs": [],
   "source": [
    "#echo '{ \"command\": [\"loadlist\", \"/home/johnny/Music/play2.txt\"] }' | socat - /tmp/mpvsocket\n",
    "mpv.command(\"loadlist\", \"/home/johnny/Music/play2.txt\")"
   ]
  },
  {
   "cell_type": "code",
   "execution_count": null,
   "metadata": {},
   "outputs": [],
   "source": [
    "# echo '{ \"command\": [\"playlist-prev\", \"weak\"] }' | socat - /tmp/mpvsocket\n",
    "mpv.command(\"playlist-next\", \"weak\")"
   ]
  },
  {
   "cell_type": "code",
   "execution_count": null,
   "metadata": {},
   "outputs": [],
   "source": [
    "mpv.close()"
   ]
  },
  {
   "cell_type": "code",
   "execution_count": null,
   "metadata": {},
   "outputs": [],
   "source": [
    "msg = {\n",
    "    \"command\": [\n",
    "        \"loadfile\", \n",
    "        \"\",\n",
    "        \"append-play\"\n",
    "    ]\n",
    "}\n",
    "json.dumps(msg)"
   ]
  },
  {
   "cell_type": "code",
   "execution_count": null,
   "metadata": {},
   "outputs": [],
   "source": []
  },
  {
   "cell_type": "code",
   "execution_count": null,
   "metadata": {},
   "outputs": [],
   "source": []
  }
 ],
 "metadata": {
  "kernelspec": {
   "display_name": "default",
   "language": "python",
   "name": "default"
  },
  "language_info": {
   "codemirror_mode": {
    "name": "ipython",
    "version": 3
   },
   "file_extension": ".py",
   "mimetype": "text/x-python",
   "name": "python",
   "nbconvert_exporter": "python",
   "pygments_lexer": "ipython3",
   "version": "3.7.2"
  }
 },
 "nbformat": 4,
 "nbformat_minor": 2
}
