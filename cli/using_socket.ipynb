{
 "cells": [
  {
   "cell_type": "code",
   "execution_count": 1,
   "metadata": {},
   "outputs": [],
   "source": [
    "# ===============================================================================#\n",
    "# MIT License                                                                    #\n",
    "#                                                                                #\n",
    "# Copyright (c) [2019] [John Petrilli]                                           #\n",
    "#                                                                                #\n",
    "# Permission is hereby granted, free of charge, to any person obtaining a copy   #\n",
    "# of this software and associated documentation files (the \"Software\"), to deal  #\n",
    "# in the Software without restriction, including without limitation the rights   #\n",
    "# to use, copy, modify, merge, publish, distribute, sublicense, and/or sell      #\n",
    "# copies of the Software, and to permit persons to whom the Software is          #\n",
    "# furnished to do so, subject to the following conditions:                       #\n",
    "#                                                                                #\n",
    "# The above copyright notice and this permission notice shall be included in all #\n",
    "# copies or substantial portions of the Software.                                #\n",
    "#                                                                                #\n",
    "# THE SOFTWARE IS PROVIDED \"AS IS\", WITHOUT WARRANTY OF ANY KIND, EXPRESS OR     #\n",
    "# IMPLIED, INCLUDING BUT NOT LIMITED TO THE WARRANTIES OF MERCHANTABILITY,       #\n",
    "# FITNESS FOR A PARTICULAR PURPOSE AND NONINFRINGEMENT. IN NO EVENT SHALL THE    #\n",
    "# AUTHORS OR COPYRIGHT HOLDERS BE LIABLE FOR ANY CLAIM, DAMAGES OR OTHER         #\n",
    "# LIABILITY, WHETHER IN AN ACTION OF CONTRACT, TORT OR OTHERWISE, ARISING FROM,  #\n",
    "# OUT OF OR IN CONNECTION WITH THE SOFTWARE OR THE USE OR OTHER DEALINGS IN THE  #\n",
    "# SOFTWARE.                                                                      #\n",
    "#   __       __                       ___ __            __          __ __        #\n",
    "#  |__.-----|  |--.-----.-----.--.--.'  _|__.----.-----|  |--.---.-|  |  |       #\n",
    "#  |  |  _  |     |     |     |  |  |   _|  |   _|  -__|  _  |  _  |  |  |       #\n",
    "#  |  |_____|__|__|__|__|__|__|___  |__| |__|__| |_____|_____|___._|__|__|       #\n",
    "# |___| johnny@techsystems.io |_____|https://www.github.com/johnnyfireball       #\n",
    "# ===============================================================================#\n"
   ]
  },
  {
   "cell_type": "code",
   "execution_count": 6,
   "metadata": {},
   "outputs": [
    {
     "name": "stdout",
     "output_type": "stream",
     "text": [
      "User Options:\n",
      "1) Play\n",
      "2) Pause\n",
      "3) Play File\n",
      "4) Load List\n",
      "5) Next\n",
      "6) Prev\n",
      "7) Stop\n",
      "8) Quit\n"
     ]
    }
   ],
   "source": [
    "import sys\n",
    "import time\n",
    "import threading\n",
    "from subprocess import Popen, PIPE\n",
    "from datetime import datetime\n",
    "import logging\n",
    "import threading\n",
    "import json\n",
    "import ctypes \n",
    "import time \n",
    "class MPVRunner:\n",
    "    mpv = None\n",
    "    \n",
    "    def __init__(self):\n",
    "        pass \n",
    "\n",
    "    def start_mpv_thread(self):\n",
    "        self.mpv = threading.Thread(target=self.start_mpv_player, args=(), name=\"mpv\")\n",
    "        self.mpv.start()\n",
    "       \n",
    "    def start_mpv_player(self):\n",
    "        default = [\n",
    "            \"mpv\",\n",
    "            \"--idle\",\n",
    "            \"--no-input-default-bindings\",\n",
    "            \"--no-terminal\",\n",
    "            \"--input-ipc-server\",\n",
    "            \"/tmp/mpvsocket\"\n",
    "        ]\n",
    "        ret = Popen(default, stdin=PIPE, stdout=PIPE, stderr=PIPE)\n",
    "        return ret.communicate(b\"ret\")\n",
    "    \n",
    "    def run_command(self, command):\n",
    "        \"\"\"\n",
    "        dmesg | grep hda\n",
    "        would be:\n",
    "\n",
    "        p1 = Popen([\"dmesg\"], stdout=PIPE)\n",
    "        p2 = Popen([\"grep\", \"hda\"], stdin=p1.stdout, stdout=PIPE)\n",
    "        output = p2.communicate()[0]\n",
    "\n",
    "         | socat - /tmp/mpvsocket\n",
    "        \"\"\"\n",
    "        run_command = [\n",
    "            'echo',\n",
    "            json.dumps(command),\n",
    "        ]\n",
    "        p1 = Popen([\"echo\", json.dumps(command)], stdout=PIPE)\n",
    "        p2 = Popen([\"socat\", \"-\", \"/tmp/mpvsocket\"], stdin=p1.stdout, stdout=PIPE)\n",
    "        return json.loads(p2.communicate()[0])\n",
    "    \n",
    "    def build_message(self,command):\n",
    "        if type(command) != list:\n",
    "            return False\n",
    "        msg = {\n",
    "            \"command\": command \n",
    "        } \n",
    "        return msg\n",
    "\n",
    "    def x_bm(self, x, c):\n",
    "        a = self.build_message(c)\n",
    "        return self.run_command(a)\n",
    "\n",
    "class MPVControl(MPVRunner):\n",
    "    def __init__(self):\n",
    "        super().__init__()\n",
    "        \"\"\"\n",
    "        Lets just start it with idea for now.\n",
    "        \"\"\"\n",
    "        self.mpv = self.start_mpv_thread()\n",
    "        # TODO make this more elegant & pythonic\n",
    "        self.user_commands = {\n",
    "            'Play':  ['set_property', 'pause', False],\n",
    "            'Pause':  ['set_property', 'pause', True],\n",
    "            'Play File': ['loadfile'],\n",
    "            'Load List': ['loadlist'],\n",
    "            'Next': [\"playlist-next\", \"weak\"],\n",
    "            'Prev': [\"playlist-prev\", \"weak\"],\n",
    "            'Stop': [\"stop\"],\n",
    "            'Quit': [\"quit\"],\n",
    "        } \n",
    "        self.internal_commands = {\n",
    "            'is_paused': ['get_property', 'pause'],\n",
    "            'quit': ['get_property', 'pause'],\n",
    "        }\n",
    "    \n",
    "    def list_action(self, action):\n",
    "        \"\"\"\n",
    "        Show the user the availble options\n",
    "        \"\"\"\n",
    "        print(\"User Options:\")\n",
    "        for idx,i in enumerate(self.user_commands):\n",
    "            print(str(idx +1) + \")\",i )\n",
    "        \n",
    "    def player_action(self, action):\n",
    "        pass\n",
    "   \n",
    "\n",
    "x = MPVControl()\n",
    "x.user_commands['Play File']\n",
    "x.list_action(2)"
   ]
  },
  {
   "cell_type": "code",
   "execution_count": 3,
   "metadata": {},
   "outputs": [],
   "source": []
  },
  {
   "cell_type": "code",
   "execution_count": 4,
   "metadata": {},
   "outputs": [
    {
     "data": {
      "text/plain": [
       "['loadfile']"
      ]
     },
     "execution_count": 4,
     "metadata": {},
     "output_type": "execute_result"
    }
   ],
   "source": []
  },
  {
   "cell_type": "code",
   "execution_count": 5,
   "metadata": {},
   "outputs": [
    {
     "name": "stdout",
     "output_type": "stream",
     "text": [
      "User Options:\n",
      "1) Play\n",
      "2) Pause\n",
      "3) Play File\n",
      "4) Load List\n",
      "5) Next\n",
      "6) Prev\n",
      "7) Stop\n"
     ]
    }
   ],
   "source": []
  },
  {
   "cell_type": "code",
   "execution_count": null,
   "metadata": {},
   "outputs": [],
   "source": []
  },
  {
   "cell_type": "code",
   "execution_count": null,
   "metadata": {},
   "outputs": [],
   "source": []
  },
  {
   "cell_type": "code",
   "execution_count": null,
   "metadata": {},
   "outputs": [],
   "source": []
  },
  {
   "cell_type": "code",
   "execution_count": null,
   "metadata": {},
   "outputs": [],
   "source": [
    " \n",
    "    \n",
    "    \n",
    "#  playlist-remove playlist-next playlist-prev stop, show-text\n",
    "commands = ['loadfile', '']\n",
    "commands = [\"loadlist\", \"/home/johnny/Music/play2.txt\"]\n",
    "commands = ['set_property', 'pause', True]\n",
    "commands = ['set_property', 'pause', False]\n",
    "commands = ['get_property', 'pause']\n",
    "commands = [\"playlist-next\", \"weak\"]\n",
    "commands = [\"playlist-prev\", \"weak\"]\n",
    "commands = [\"show-text\", \"hello...\"]\n",
    "commands = [\"get_property\", \"filename\"]\n",
    "commands = [\"get_property\", \"media-title\"] # Returns song name\n",
    "commands = ['loadfile', '']\n",
    "commands = ['set_property', 'pause', True]\n",
    "commands = ['stop'] # Stop player and clear playlist\n",
    "commands = ['quit'] # quit player\n",
    "commands = ['quit']\n",
    "p = x.x_bm(x, commands)\n",
    "print(p)"
   ]
  },
  {
   "cell_type": "code",
   "execution_count": null,
   "metadata": {},
   "outputs": [],
   "source": [
    "x = MPVControl()"
   ]
  },
  {
   "cell_type": "code",
   "execution_count": null,
   "metadata": {},
   "outputs": [],
   "source": [
    "print(x.mpv)"
   ]
  },
  {
   "cell_type": "code",
   "execution_count": null,
   "metadata": {},
   "outputs": [],
   "source": [
    "x.start_mpv_thread()"
   ]
  },
  {
   "cell_type": "code",
   "execution_count": null,
   "metadata": {},
   "outputs": [],
   "source": []
  },
  {
   "cell_type": "code",
   "execution_count": null,
   "metadata": {},
   "outputs": [],
   "source": [
    "run = ['loadfile', '']"
   ]
  },
  {
   "cell_type": "code",
   "execution_count": null,
   "metadata": {},
   "outputs": [],
   "source": [
    "def play_pause(self):\n",
    "    if self.run_command(['get_property', 'pause']):\n",
    "        self.run_command(['set_property', 'pause', False])\n",
    "    else:\n",
    "        self.run_command(['set_property', 'pause', True])\n"
   ]
  },
  {
   "cell_type": "code",
   "execution_count": null,
   "metadata": {},
   "outputs": [],
   "source": [
    "def build_message(command):\n",
    "    \"\"\"\n",
    "    if type(command) != list:\n",
    "        return False\n",
    "    msg = {\n",
    "        \"command\": command \n",
    "    } \n",
    "    return msg\n",
    "    \"\"\"\n",
    "    pass\n",
    "def x_bm(x, c):\n",
    "    \"\"\"\n",
    "    a = build_message(c)\n",
    "    print(c)\n",
    "    print(x.run_command(a))\n",
    "    \"\"\"\n",
    "    pass"
   ]
  },
  {
   "cell_type": "code",
   "execution_count": null,
   "metadata": {},
   "outputs": [],
   "source": []
  },
  {
   "cell_type": "code",
   "execution_count": null,
   "metadata": {},
   "outputs": [],
   "source": []
  },
  {
   "cell_type": "code",
   "execution_count": null,
   "metadata": {},
   "outputs": [],
   "source": []
  },
  {
   "cell_type": "code",
   "execution_count": null,
   "metadata": {},
   "outputs": [],
   "source": [
    "x.raise_exception()"
   ]
  },
  {
   "cell_type": "code",
   "execution_count": null,
   "metadata": {},
   "outputs": [],
   "source": [
    "x.mpv"
   ]
  },
  {
   "cell_type": "code",
   "execution_count": null,
   "metadata": {},
   "outputs": [],
   "source": [
    "commands = ['set_property', 'pause', False]"
   ]
  },
  {
   "cell_type": "code",
   "execution_count": null,
   "metadata": {},
   "outputs": [],
   "source": [
    "command  = build_message(commands)\n",
    "print(command)"
   ]
  },
  {
   "cell_type": "code",
   "execution_count": null,
   "metadata": {},
   "outputs": [],
   "source": [
    "commands = ['set_property', 'pause', True]"
   ]
  },
  {
   "cell_type": "code",
   "execution_count": null,
   "metadata": {},
   "outputs": [],
   "source": [
    "command  = build_message(commands)\n",
    "print(command)"
   ]
  },
  {
   "cell_type": "code",
   "execution_count": null,
   "metadata": {},
   "outputs": [],
   "source": []
  },
  {
   "cell_type": "code",
   "execution_count": null,
   "metadata": {},
   "outputs": [],
   "source": []
  },
  {
   "cell_type": "code",
   "execution_count": null,
   "metadata": {},
   "outputs": [],
   "source": []
  },
  {
   "cell_type": "code",
   "execution_count": null,
   "metadata": {},
   "outputs": [],
   "source": [
    "print(t1.is_alive())"
   ]
  },
  {
   "cell_type": "code",
   "execution_count": null,
   "metadata": {},
   "outputs": [],
   "source": [
    "msg = {\n",
    "    \"command\": [\n",
    "        \"set_property\", \n",
    "        \"pause\",\n",
    "    ]\n",
    "}\n",
    "json.dumps(msg)"
   ]
  },
  {
   "cell_type": "code",
   "execution_count": null,
   "metadata": {},
   "outputs": [],
   "source": [
    "msg = {\n",
    "    \"command\": [\n",
    "        \"set_property\", \n",
    "        \"pause\",\n",
    "    ]\n",
    "}\n",
    "json.dumps(msg)"
   ]
  },
  {
   "cell_type": "code",
   "execution_count": null,
   "metadata": {},
   "outputs": [],
   "source": [
    "msg = {\n",
    "    \"command\": [\n",
    "        \"loadfile\",\n",
    "        \"\"\n",
    "    ]\n",
    "}\n",
    "x = run_command(msg)"
   ]
  },
  {
   "cell_type": "code",
   "execution_count": null,
   "metadata": {},
   "outputs": [],
   "source": []
  },
  {
   "cell_type": "code",
   "execution_count": null,
   "metadata": {},
   "outputs": [],
   "source": [
    "json.loads(x)"
   ]
  },
  {
   "cell_type": "code",
   "execution_count": null,
   "metadata": {},
   "outputs": [],
   "source": []
  }
 ],
 "metadata": {
  "kernelspec": {
   "display_name": "default",
   "language": "python",
   "name": "default"
  },
  "language_info": {
   "codemirror_mode": {
    "name": "ipython",
    "version": 3
   },
   "file_extension": ".py",
   "mimetype": "text/x-python",
   "name": "python",
   "nbconvert_exporter": "python",
   "pygments_lexer": "ipython3",
   "version": "3.7.2"
  }
 },
 "nbformat": 4,
 "nbformat_minor": 2
}
